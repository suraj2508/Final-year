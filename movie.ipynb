{
 "cells": [
  {
   "cell_type": "code",
   "execution_count": 1,
   "metadata": {
    "colab": {},
    "colab_type": "code",
    "id": "ipDI9b8WqSTD"
   },
   "outputs": [],
   "source": [
    "import pandas as pd\n",
    "import numpy as np\n",
    "from sklearn.feature_extraction.text import CountVectorizer\n",
    "from sklearn.metrics.pairwise import cosine_similarity\n"
   ]
  },
  {
   "cell_type": "code",
   "execution_count": 2,
   "metadata": {
    "colab": {},
    "colab_type": "code",
    "id": "FOEoUKubqLMu"
   },
   "outputs": [],
   "source": [
    "url = 'https://raw.githubusercontent.com/suraj2508/Final-year/master/movie_dataset.csv'\n",
    "movie = pd.read_csv(url)"
   ]
  },
  {
   "cell_type": "code",
   "execution_count": 3,
   "metadata": {
    "colab": {
     "base_uri": "https://localhost:8080/",
     "height": 243
    },
    "colab_type": "code",
    "executionInfo": {
     "elapsed": 3391,
     "status": "ok",
     "timestamp": 1554815564296,
     "user": {
      "displayName": "Suraj Shetty",
      "photoUrl": "https://lh6.googleusercontent.com/-HCIrZhFA-78/AAAAAAAAAAI/AAAAAAAACsc/iGzRkjIUhrY/s64/photo.jpg",
      "userId": "06321887654073087002"
     },
     "user_tz": -330
    },
    "id": "E_juVQaKxqOA",
    "outputId": "181d7c41-f3be-4055-c960-0f044f831408"
   },
   "outputs": [
    {
     "data": {
      "text/html": [
       "<div>\n",
       "<style scoped>\n",
       "    .dataframe tbody tr th:only-of-type {\n",
       "        vertical-align: middle;\n",
       "    }\n",
       "\n",
       "    .dataframe tbody tr th {\n",
       "        vertical-align: top;\n",
       "    }\n",
       "\n",
       "    .dataframe thead th {\n",
       "        text-align: right;\n",
       "    }\n",
       "</style>\n",
       "<table border=\"1\" class=\"dataframe\">\n",
       "  <thead>\n",
       "    <tr style=\"text-align: right;\">\n",
       "      <th></th>\n",
       "      <th>index</th>\n",
       "      <th>budget</th>\n",
       "      <th>genres</th>\n",
       "      <th>homepage</th>\n",
       "      <th>id</th>\n",
       "      <th>keywords</th>\n",
       "      <th>original_language</th>\n",
       "      <th>original_title</th>\n",
       "      <th>overview</th>\n",
       "      <th>popularity</th>\n",
       "      <th>...</th>\n",
       "      <th>runtime</th>\n",
       "      <th>spoken_languages</th>\n",
       "      <th>status</th>\n",
       "      <th>tagline</th>\n",
       "      <th>title</th>\n",
       "      <th>vote_average</th>\n",
       "      <th>vote_count</th>\n",
       "      <th>cast</th>\n",
       "      <th>crew</th>\n",
       "      <th>director</th>\n",
       "    </tr>\n",
       "  </thead>\n",
       "  <tbody>\n",
       "    <tr>\n",
       "      <th>0</th>\n",
       "      <td>0</td>\n",
       "      <td>237000000</td>\n",
       "      <td>Action Adventure Fantasy Science Fiction</td>\n",
       "      <td>http://www.avatarmovie.com/</td>\n",
       "      <td>19995</td>\n",
       "      <td>culture clash future space war space colony so...</td>\n",
       "      <td>en</td>\n",
       "      <td>Avatar</td>\n",
       "      <td>In the 22nd century, a paraplegic Marine is di...</td>\n",
       "      <td>150.437577</td>\n",
       "      <td>...</td>\n",
       "      <td>162.0</td>\n",
       "      <td>[{\"iso_639_1\": \"en\", \"name\": \"English\"}, {\"iso...</td>\n",
       "      <td>Released</td>\n",
       "      <td>Enter the World of Pandora.</td>\n",
       "      <td>Avatar</td>\n",
       "      <td>7.2</td>\n",
       "      <td>11800</td>\n",
       "      <td>Sam Worthington Zoe Saldana Sigourney Weaver S...</td>\n",
       "      <td>[{'name': 'Stephen E. Rivkin', 'gender': 0, 'd...</td>\n",
       "      <td>James Cameron</td>\n",
       "    </tr>\n",
       "  </tbody>\n",
       "</table>\n",
       "<p>1 rows × 24 columns</p>\n",
       "</div>"
      ],
      "text/plain": [
       "   index     budget                                    genres  \\\n",
       "0      0  237000000  Action Adventure Fantasy Science Fiction   \n",
       "\n",
       "                      homepage     id  \\\n",
       "0  http://www.avatarmovie.com/  19995   \n",
       "\n",
       "                                            keywords original_language  \\\n",
       "0  culture clash future space war space colony so...                en   \n",
       "\n",
       "  original_title                                           overview  \\\n",
       "0         Avatar  In the 22nd century, a paraplegic Marine is di...   \n",
       "\n",
       "   popularity      ...       runtime  \\\n",
       "0  150.437577      ...         162.0   \n",
       "\n",
       "                                    spoken_languages    status  \\\n",
       "0  [{\"iso_639_1\": \"en\", \"name\": \"English\"}, {\"iso...  Released   \n",
       "\n",
       "                       tagline   title vote_average vote_count  \\\n",
       "0  Enter the World of Pandora.  Avatar          7.2      11800   \n",
       "\n",
       "                                                cast  \\\n",
       "0  Sam Worthington Zoe Saldana Sigourney Weaver S...   \n",
       "\n",
       "                                                crew       director  \n",
       "0  [{'name': 'Stephen E. Rivkin', 'gender': 0, 'd...  James Cameron  \n",
       "\n",
       "[1 rows x 24 columns]"
      ]
     },
     "execution_count": 3,
     "metadata": {},
     "output_type": "execute_result"
    }
   ],
   "source": [
    "movie.head(1)"
   ]
  },
  {
   "cell_type": "code",
   "execution_count": 4,
   "metadata": {
    "colab": {},
    "colab_type": "code",
    "id": "rJ97HVk7AUzl"
   },
   "outputs": [],
   "source": [
    "lst = [x.lower() for x in movie.title] \n",
    "#print(lst)"
   ]
  },
  {
   "cell_type": "code",
   "execution_count": 5,
   "metadata": {
    "colab": {},
    "colab_type": "code",
    "id": "p5wro6XEDfGI"
   },
   "outputs": [],
   "source": [
    "movie.insert(2,\"real_titles\",lst) "
   ]
  },
  {
   "cell_type": "code",
   "execution_count": 6,
   "metadata": {
    "colab": {
     "base_uri": "https://localhost:8080/",
     "height": 243
    },
    "colab_type": "code",
    "executionInfo": {
     "elapsed": 3369,
     "status": "ok",
     "timestamp": 1554815564304,
     "user": {
      "displayName": "Suraj Shetty",
      "photoUrl": "https://lh6.googleusercontent.com/-HCIrZhFA-78/AAAAAAAAAAI/AAAAAAAACsc/iGzRkjIUhrY/s64/photo.jpg",
      "userId": "06321887654073087002"
     },
     "user_tz": -330
    },
    "id": "L98zqqrEDfAT",
    "outputId": "7c08cc10-b5c6-4f24-a5a4-456186fd28ca"
   },
   "outputs": [
    {
     "data": {
      "text/html": [
       "<div>\n",
       "<style scoped>\n",
       "    .dataframe tbody tr th:only-of-type {\n",
       "        vertical-align: middle;\n",
       "    }\n",
       "\n",
       "    .dataframe tbody tr th {\n",
       "        vertical-align: top;\n",
       "    }\n",
       "\n",
       "    .dataframe thead th {\n",
       "        text-align: right;\n",
       "    }\n",
       "</style>\n",
       "<table border=\"1\" class=\"dataframe\">\n",
       "  <thead>\n",
       "    <tr style=\"text-align: right;\">\n",
       "      <th></th>\n",
       "      <th>index</th>\n",
       "      <th>budget</th>\n",
       "      <th>real_titles</th>\n",
       "      <th>genres</th>\n",
       "      <th>homepage</th>\n",
       "      <th>id</th>\n",
       "      <th>keywords</th>\n",
       "      <th>original_language</th>\n",
       "      <th>original_title</th>\n",
       "      <th>overview</th>\n",
       "      <th>...</th>\n",
       "      <th>runtime</th>\n",
       "      <th>spoken_languages</th>\n",
       "      <th>status</th>\n",
       "      <th>tagline</th>\n",
       "      <th>title</th>\n",
       "      <th>vote_average</th>\n",
       "      <th>vote_count</th>\n",
       "      <th>cast</th>\n",
       "      <th>crew</th>\n",
       "      <th>director</th>\n",
       "    </tr>\n",
       "  </thead>\n",
       "  <tbody>\n",
       "    <tr>\n",
       "      <th>0</th>\n",
       "      <td>0</td>\n",
       "      <td>237000000</td>\n",
       "      <td>avatar</td>\n",
       "      <td>Action Adventure Fantasy Science Fiction</td>\n",
       "      <td>http://www.avatarmovie.com/</td>\n",
       "      <td>19995</td>\n",
       "      <td>culture clash future space war space colony so...</td>\n",
       "      <td>en</td>\n",
       "      <td>Avatar</td>\n",
       "      <td>In the 22nd century, a paraplegic Marine is di...</td>\n",
       "      <td>...</td>\n",
       "      <td>162.0</td>\n",
       "      <td>[{\"iso_639_1\": \"en\", \"name\": \"English\"}, {\"iso...</td>\n",
       "      <td>Released</td>\n",
       "      <td>Enter the World of Pandora.</td>\n",
       "      <td>Avatar</td>\n",
       "      <td>7.2</td>\n",
       "      <td>11800</td>\n",
       "      <td>Sam Worthington Zoe Saldana Sigourney Weaver S...</td>\n",
       "      <td>[{'name': 'Stephen E. Rivkin', 'gender': 0, 'd...</td>\n",
       "      <td>James Cameron</td>\n",
       "    </tr>\n",
       "  </tbody>\n",
       "</table>\n",
       "<p>1 rows × 25 columns</p>\n",
       "</div>"
      ],
      "text/plain": [
       "   index     budget real_titles                                    genres  \\\n",
       "0      0  237000000      avatar  Action Adventure Fantasy Science Fiction   \n",
       "\n",
       "                      homepage     id  \\\n",
       "0  http://www.avatarmovie.com/  19995   \n",
       "\n",
       "                                            keywords original_language  \\\n",
       "0  culture clash future space war space colony so...                en   \n",
       "\n",
       "  original_title                                           overview  \\\n",
       "0         Avatar  In the 22nd century, a paraplegic Marine is di...   \n",
       "\n",
       "       ...        runtime                                   spoken_languages  \\\n",
       "0      ...          162.0  [{\"iso_639_1\": \"en\", \"name\": \"English\"}, {\"iso...   \n",
       "\n",
       "     status                      tagline   title  vote_average vote_count  \\\n",
       "0  Released  Enter the World of Pandora.  Avatar           7.2      11800   \n",
       "\n",
       "                                                cast  \\\n",
       "0  Sam Worthington Zoe Saldana Sigourney Weaver S...   \n",
       "\n",
       "                                                crew       director  \n",
       "0  [{'name': 'Stephen E. Rivkin', 'gender': 0, 'd...  James Cameron  \n",
       "\n",
       "[1 rows x 25 columns]"
      ]
     },
     "execution_count": 6,
     "metadata": {},
     "output_type": "execute_result"
    }
   ],
   "source": [
    "movie.head(1)"
   ]
  },
  {
   "cell_type": "code",
   "execution_count": 7,
   "metadata": {
    "colab": {
     "base_uri": "https://localhost:8080/",
     "height": 134
    },
    "colab_type": "code",
    "executionInfo": {
     "elapsed": 3353,
     "status": "ok",
     "timestamp": 1554815564305,
     "user": {
      "displayName": "Suraj Shetty",
      "photoUrl": "https://lh6.googleusercontent.com/-HCIrZhFA-78/AAAAAAAAAAI/AAAAAAAACsc/iGzRkjIUhrY/s64/photo.jpg",
      "userId": "06321887654073087002"
     },
     "user_tz": -330
    },
    "id": "r1gE8uLkrVm0",
    "outputId": "a81b3b5a-ba68-41c9-e926-04d7e928cd61"
   },
   "outputs": [
    {
     "data": {
      "text/plain": [
       "Index(['index', 'budget', 'real_titles', 'genres', 'homepage', 'id',\n",
       "       'keywords', 'original_language', 'original_title', 'overview',\n",
       "       'popularity', 'production_companies', 'production_countries',\n",
       "       'release_date', 'revenue', 'runtime', 'spoken_languages', 'status',\n",
       "       'tagline', 'title', 'vote_average', 'vote_count', 'cast', 'crew',\n",
       "       'director'],\n",
       "      dtype='object')"
      ]
     },
     "execution_count": 7,
     "metadata": {},
     "output_type": "execute_result"
    }
   ],
   "source": [
    "movie.columns"
   ]
  },
  {
   "cell_type": "code",
   "execution_count": 8,
   "metadata": {
    "colab": {},
    "colab_type": "code",
    "id": "DEEKW0cJR2oI"
   },
   "outputs": [],
   "source": [
    "#movie.dtypes"
   ]
  },
  {
   "cell_type": "code",
   "execution_count": 9,
   "metadata": {
    "colab": {
     "base_uri": "https://localhost:8080/",
     "height": 34
    },
    "colab_type": "code",
    "executionInfo": {
     "elapsed": 3343,
     "status": "ok",
     "timestamp": 1554815564310,
     "user": {
      "displayName": "Suraj Shetty",
      "photoUrl": "https://lh6.googleusercontent.com/-HCIrZhFA-78/AAAAAAAAAAI/AAAAAAAACsc/iGzRkjIUhrY/s64/photo.jpg",
      "userId": "06321887654073087002"
     },
     "user_tz": -330
    },
    "id": "hPZI2OtnYY6G",
    "outputId": "12000ed2-aff9-4fbe-f5ad-bb475da4819e"
   },
   "outputs": [
    {
     "data": {
      "text/plain": [
       "6.092171559442011"
      ]
     },
     "execution_count": 9,
     "metadata": {},
     "output_type": "execute_result"
    }
   ],
   "source": [
    "C= movie['vote_average'].mean() #mean rating for all movies\n",
    "C"
   ]
  },
  {
   "cell_type": "code",
   "execution_count": 10,
   "metadata": {
    "colab": {
     "base_uri": "https://localhost:8080/",
     "height": 34
    },
    "colab_type": "code",
    "executionInfo": {
     "elapsed": 3319,
     "status": "ok",
     "timestamp": 1554815564311,
     "user": {
      "displayName": "Suraj Shetty",
      "photoUrl": "https://lh6.googleusercontent.com/-HCIrZhFA-78/AAAAAAAAAAI/AAAAAAAACsc/iGzRkjIUhrY/s64/photo.jpg",
      "userId": "06321887654073087002"
     },
     "user_tz": -330
    },
    "id": "j0FxtBFRYe_d",
    "outputId": "2d8dfc9a-f173-4601-92a2-20e727e200a7"
   },
   "outputs": [
    {
     "data": {
      "text/plain": [
       "1838.4000000000015"
      ]
     },
     "execution_count": 10,
     "metadata": {},
     "output_type": "execute_result"
    }
   ],
   "source": [
    "m= movie['vote_count'].quantile(0.9)   #minimum votes to qualify to the list and the percentile is set to 90 means it must have more votes than atleast 90% movies.\n",
    "m"
   ]
  },
  {
   "cell_type": "code",
   "execution_count": 11,
   "metadata": {
    "colab": {
     "base_uri": "https://localhost:8080/",
     "height": 34
    },
    "colab_type": "code",
    "executionInfo": {
     "elapsed": 3304,
     "status": "ok",
     "timestamp": 1554815564312,
     "user": {
      "displayName": "Suraj Shetty",
      "photoUrl": "https://lh6.googleusercontent.com/-HCIrZhFA-78/AAAAAAAAAAI/AAAAAAAACsc/iGzRkjIUhrY/s64/photo.jpg",
      "userId": "06321887654073087002"
     },
     "user_tz": -330
    },
    "id": "3EUUDj2XYn5r",
    "outputId": "95798800-0aa4-442b-f24d-8b3c05c17e63"
   },
   "outputs": [
    {
     "data": {
      "text/plain": [
       "(481, 25)"
      ]
     },
     "execution_count": 11,
     "metadata": {},
     "output_type": "execute_result"
    }
   ],
   "source": [
    "filter = movie.copy().loc[movie['vote_count'] >= m]   #filter movies that qualify the list\n",
    "filter.shape"
   ]
  },
  {
   "cell_type": "code",
   "execution_count": 12,
   "metadata": {
    "colab": {},
    "colab_type": "code",
    "id": "WC8F6h6UY3SU"
   },
   "outputs": [],
   "source": [
    "def weighted_rating(x, m=m, C=C):\n",
    "    v = x['vote_count']\n",
    "    R = x['vote_average']\n",
    "    # Calculation based on the IMDB formula\n",
    "    return (v/(v+m) * R) + (m/(m+v) * C)\n",
    "#v is the number of votes for the movie,m is the minimum votes required to be listed in the chart,R is the average rating of the movie And\n",
    "#,C is the mean vote across the whole report"
   ]
  },
  {
   "cell_type": "code",
   "execution_count": 13,
   "metadata": {
    "colab": {},
    "colab_type": "code",
    "id": "AjcjdYyTY4sV"
   },
   "outputs": [],
   "source": [
    "# Define a new feature 'score' and calculate its value with `weighted_rating()`\n",
    "filter['scores'] = filter.apply(weighted_rating, axis=\"columns\")"
   ]
  },
  {
   "cell_type": "code",
   "execution_count": 14,
   "metadata": {
    "colab": {
     "base_uri": "https://localhost:8080/",
     "height": 118
    },
    "colab_type": "code",
    "executionInfo": {
     "elapsed": 3288,
     "status": "ok",
     "timestamp": 1554815564319,
     "user": {
      "displayName": "Suraj Shetty",
      "photoUrl": "https://lh6.googleusercontent.com/-HCIrZhFA-78/AAAAAAAAAAI/AAAAAAAACsc/iGzRkjIUhrY/s64/photo.jpg",
      "userId": "06321887654073087002"
     },
     "user_tz": -330
    },
    "id": "PO2_xjdnMP92",
    "outputId": "3c8b6ec2-251f-4cd9-b9e1-3736c670fe8e"
   },
   "outputs": [
    {
     "data": {
      "text/plain": [
       "0    7.050669\n",
       "1    6.665696\n",
       "2    6.239396\n",
       "3    7.346721\n",
       "4    6.096368\n",
       "Name: scores, dtype: float64"
      ]
     },
     "execution_count": 14,
     "metadata": {},
     "output_type": "execute_result"
    }
   ],
   "source": [
    "filter['scores'].head()"
   ]
  },
  {
   "cell_type": "code",
   "execution_count": 15,
   "metadata": {
    "colab": {
     "base_uri": "https://localhost:8080/",
     "height": 310
    },
    "colab_type": "code",
    "executionInfo": {
     "elapsed": 4237,
     "status": "ok",
     "timestamp": 1554815565281,
     "user": {
      "displayName": "Suraj Shetty",
      "photoUrl": "https://lh6.googleusercontent.com/-HCIrZhFA-78/AAAAAAAAAAI/AAAAAAAACsc/iGzRkjIUhrY/s64/photo.jpg",
      "userId": "06321887654073087002"
     },
     "user_tz": -330
    },
    "id": "nFCu7YWNZ4Bm",
    "outputId": "7e0d75ed-8d05-4949-e4f5-a8b1477d65e0"
   },
   "outputs": [
    {
     "data": {
      "text/plain": [
       "Text(0.5, 1.0, 'Popular Movies')"
      ]
     },
     "execution_count": 15,
     "metadata": {},
     "output_type": "execute_result"
    }
   ],
   "source": [
    "pop= movie.sort_values('popularity', ascending=False)\n",
    "import matplotlib.pyplot as plt\n",
    "plt.figure(figsize=(12,4))\n",
    "\n",
    "plt.barh(pop['title'].head(6),pop['popularity'].head(6), align='center',\n",
    "        color='red')\n",
    "plt.gca().invert_yaxis()\n",
    "plt.xlabel(\"Popularity\")\n",
    "plt.title(\"Popular Movies\")"
   ]
  },
  {
   "cell_type": "code",
   "execution_count": 16,
   "metadata": {
    "colab": {
     "base_uri": "https://localhost:8080/",
     "height": 343
    },
    "colab_type": "code",
    "executionInfo": {
     "elapsed": 4221,
     "status": "ok",
     "timestamp": 1554815565285,
     "user": {
      "displayName": "Suraj Shetty",
      "photoUrl": "https://lh6.googleusercontent.com/-HCIrZhFA-78/AAAAAAAAAAI/AAAAAAAACsc/iGzRkjIUhrY/s64/photo.jpg",
      "userId": "06321887654073087002"
     },
     "user_tz": -330
    },
    "id": "vPH2I8T3ZsyS",
    "outputId": "e21b2422-29a1-4f72-a5e0-475bfa2ae520"
   },
   "outputs": [
    {
     "data": {
      "text/html": [
       "<div>\n",
       "<style scoped>\n",
       "    .dataframe tbody tr th:only-of-type {\n",
       "        vertical-align: middle;\n",
       "    }\n",
       "\n",
       "    .dataframe tbody tr th {\n",
       "        vertical-align: top;\n",
       "    }\n",
       "\n",
       "    .dataframe thead th {\n",
       "        text-align: right;\n",
       "    }\n",
       "</style>\n",
       "<table border=\"1\" class=\"dataframe\">\n",
       "  <thead>\n",
       "    <tr style=\"text-align: right;\">\n",
       "      <th></th>\n",
       "      <th>original_title</th>\n",
       "      <th>vote_count</th>\n",
       "      <th>vote_average</th>\n",
       "      <th>scores</th>\n",
       "    </tr>\n",
       "  </thead>\n",
       "  <tbody>\n",
       "    <tr>\n",
       "      <th>1881</th>\n",
       "      <td>The Shawshank Redemption</td>\n",
       "      <td>8205</td>\n",
       "      <td>8.5</td>\n",
       "      <td>8.059258</td>\n",
       "    </tr>\n",
       "    <tr>\n",
       "      <th>662</th>\n",
       "      <td>Fight Club</td>\n",
       "      <td>9413</td>\n",
       "      <td>8.3</td>\n",
       "      <td>7.939256</td>\n",
       "    </tr>\n",
       "    <tr>\n",
       "      <th>65</th>\n",
       "      <td>The Dark Knight</td>\n",
       "      <td>12002</td>\n",
       "      <td>8.2</td>\n",
       "      <td>7.920020</td>\n",
       "    </tr>\n",
       "    <tr>\n",
       "      <th>3232</th>\n",
       "      <td>Pulp Fiction</td>\n",
       "      <td>8428</td>\n",
       "      <td>8.3</td>\n",
       "      <td>7.904645</td>\n",
       "    </tr>\n",
       "    <tr>\n",
       "      <th>96</th>\n",
       "      <td>Inception</td>\n",
       "      <td>13752</td>\n",
       "      <td>8.1</td>\n",
       "      <td>7.863239</td>\n",
       "    </tr>\n",
       "    <tr>\n",
       "      <th>3337</th>\n",
       "      <td>The Godfather</td>\n",
       "      <td>5893</td>\n",
       "      <td>8.4</td>\n",
       "      <td>7.851236</td>\n",
       "    </tr>\n",
       "    <tr>\n",
       "      <th>95</th>\n",
       "      <td>Interstellar</td>\n",
       "      <td>10867</td>\n",
       "      <td>8.1</td>\n",
       "      <td>7.809479</td>\n",
       "    </tr>\n",
       "    <tr>\n",
       "      <th>809</th>\n",
       "      <td>Forrest Gump</td>\n",
       "      <td>7927</td>\n",
       "      <td>8.2</td>\n",
       "      <td>7.803188</td>\n",
       "    </tr>\n",
       "    <tr>\n",
       "      <th>329</th>\n",
       "      <td>The Lord of the Rings: The Return of the King</td>\n",
       "      <td>8064</td>\n",
       "      <td>8.1</td>\n",
       "      <td>7.727243</td>\n",
       "    </tr>\n",
       "    <tr>\n",
       "      <th>1990</th>\n",
       "      <td>The Empire Strikes Back</td>\n",
       "      <td>5879</td>\n",
       "      <td>8.2</td>\n",
       "      <td>7.697884</td>\n",
       "    </tr>\n",
       "  </tbody>\n",
       "</table>\n",
       "</div>"
      ],
      "text/plain": [
       "                                     original_title  vote_count  vote_average  \\\n",
       "1881                       The Shawshank Redemption        8205           8.5   \n",
       "662                                      Fight Club        9413           8.3   \n",
       "65                                  The Dark Knight       12002           8.2   \n",
       "3232                                   Pulp Fiction        8428           8.3   \n",
       "96                                        Inception       13752           8.1   \n",
       "3337                                  The Godfather        5893           8.4   \n",
       "95                                     Interstellar       10867           8.1   \n",
       "809                                    Forrest Gump        7927           8.2   \n",
       "329   The Lord of the Rings: The Return of the King        8064           8.1   \n",
       "1990                        The Empire Strikes Back        5879           8.2   \n",
       "\n",
       "        scores  \n",
       "1881  8.059258  \n",
       "662   7.939256  \n",
       "65    7.920020  \n",
       "3232  7.904645  \n",
       "96    7.863239  \n",
       "3337  7.851236  \n",
       "95    7.809479  \n",
       "809   7.803188  \n",
       "329   7.727243  \n",
       "1990  7.697884  "
      ]
     },
     "execution_count": 16,
     "metadata": {},
     "output_type": "execute_result"
    }
   ],
   "source": [
    "#Sort movies based on score calculated above\n",
    "filter = filter.sort_values('scores', ascending=False)\n",
    "\n",
    "#Print the movies\n",
    "filter[['original_title', 'vote_count', 'vote_average', 'scores']].head(10)"
   ]
  },
  {
   "cell_type": "code",
   "execution_count": 17,
   "metadata": {
    "colab": {},
    "colab_type": "code",
    "id": "qxgQnt66zSc_"
   },
   "outputs": [],
   "source": [
    "features = ['keywords','cast','genres','director']"
   ]
  },
  {
   "cell_type": "code",
   "execution_count": 18,
   "metadata": {
    "colab": {},
    "colab_type": "code",
    "id": "wAe1srcvzZr-"
   },
   "outputs": [],
   "source": [
    "def combine_features(row):\n",
    "    return row['keywords']+\" \"+row['cast']+\" \"+row['genres']+\" \"+row['director']"
   ]
  },
  {
   "cell_type": "code",
   "execution_count": 19,
   "metadata": {
    "colab": {},
    "colab_type": "code",
    "id": "zjtjHIqyzfm1"
   },
   "outputs": [],
   "source": [
    "for feature in features:\n",
    "    movie[feature] = movie[feature].fillna('') #filling all NaNs with blank string\n",
    "\n",
    "movie[\"combined_features\"] = movie.apply(combine_features,axis=1)"
   ]
  },
  {
   "cell_type": "code",
   "execution_count": 20,
   "metadata": {
    "colab": {},
    "colab_type": "code",
    "id": "ljE5LEquztwb"
   },
   "outputs": [],
   "source": [
    "cv = CountVectorizer() #count the no of text\n",
    "count = cv.fit_transform(movie[\"combined_features\"]) # combined strings(movie contents) to CountVectorizer() object"
   ]
  },
  {
   "cell_type": "code",
   "execution_count": 21,
   "metadata": {
    "colab": {},
    "colab_type": "code",
    "id": "2oVWZ0HQz2IP"
   },
   "outputs": [],
   "source": [
    "cosine_sim = cosine_similarity(count)"
   ]
  },
  {
   "cell_type": "code",
   "execution_count": 22,
   "metadata": {
    "colab": {
     "base_uri": "https://localhost:8080/",
     "height": 50
    },
    "colab_type": "code",
    "executionInfo": {
     "elapsed": 11234,
     "status": "ok",
     "timestamp": 1554815572318,
     "user": {
      "displayName": "Suraj Shetty",
      "photoUrl": "https://lh6.googleusercontent.com/-HCIrZhFA-78/AAAAAAAAAAI/AAAAAAAACsc/iGzRkjIUhrY/s64/photo.jpg",
      "userId": "06321887654073087002"
     },
     "user_tz": -330
    },
    "id": "bFENua7bz6zI",
    "outputId": "3553a09b-b224-4838-cb88-ff44013ab90e"
   },
   "outputs": [
    {
     "name": "stdout",
     "output_type": "stream",
     "text": [
      "Enter movie name-avatar\n",
      "You Selected-avatar\n"
     ]
    }
   ],
   "source": [
    "movie_user_likes = input(\"Enter movie name-\").lower()\n",
    "print('You Selected-'+movie_user_likes)"
   ]
  },
  {
   "cell_type": "code",
   "execution_count": 23,
   "metadata": {
    "colab": {},
    "colab_type": "code",
    "id": "T3B7nPvx3Uud"
   },
   "outputs": [],
   "source": [
    "def get_title_from_index(index):\n",
    "    return movie[movie.index == index][\"title\"].values[0]\n",
    "def get_index_from_title(title):\n",
    "    return movie[movie.real_titles == title][\"index\"].values[0]"
   ]
  },
  {
   "cell_type": "code",
   "execution_count": 24,
   "metadata": {
    "colab": {
     "base_uri": "https://localhost:8080/",
     "height": 134
    },
    "colab_type": "code",
    "executionInfo": {
     "elapsed": 11225,
     "status": "ok",
     "timestamp": 1554815572323,
     "user": {
      "displayName": "Suraj Shetty",
      "photoUrl": "https://lh6.googleusercontent.com/-HCIrZhFA-78/AAAAAAAAAAI/AAAAAAAACsc/iGzRkjIUhrY/s64/photo.jpg",
      "userId": "06321887654073087002"
     },
     "user_tz": -330
    },
    "id": "B7RB3HOH0OnT",
    "outputId": "e40d362c-4885-4092-c1f1-3d00db2cea91"
   },
   "outputs": [
    {
     "name": "stdout",
     "output_type": "stream",
     "text": [
      "Top 5 similar movies to avatar are:\n",
      "\n",
      "Guardians of the Galaxy\n",
      "Aliens\n",
      "Star Wars: Clone Wars: Volume 1\n",
      "Star Trek Into Darkness\n",
      "Star Trek Beyond\n"
     ]
    }
   ],
   "source": [
    "try:\n",
    "  movie_index = get_index_from_title(movie_user_likes)\n",
    "  similar_movies =  list(enumerate(cosine_sim[movie_index]))\n",
    "  sorted_similar_movies = sorted(similar_movies,key=lambda x:x[1],reverse=True)[1:6]\n",
    "  i=0\n",
    "  print(\"Top 5 similar movies to \"+movie_user_likes+\" are:\\n\")\n",
    "  for element in sorted_similar_movies:\n",
    "    print(get_title_from_index(element[0]))\n",
    "    i=i+1\n",
    "    if i>5:\n",
    "      break\n",
    "except:\n",
    "  print(\"Sorry We Dont have this movie In out dataset\")"
   ]
  }
 ],
 "metadata": {
  "colab": {
   "collapsed_sections": [],
   "name": "movie.ipynb",
   "provenance": [],
   "version": "0.3.2"
  },
  "kernelspec": {
   "display_name": "Python 3",
   "language": "python",
   "name": "python3"
  },
  "language_info": {
   "codemirror_mode": {
    "name": "ipython",
    "version": 3
   },
   "file_extension": ".py",
   "mimetype": "text/x-python",
   "name": "python",
   "nbconvert_exporter": "python",
   "pygments_lexer": "ipython3",
   "version": "3.7.1"
  }
 },
 "nbformat": 4,
 "nbformat_minor": 1
}
